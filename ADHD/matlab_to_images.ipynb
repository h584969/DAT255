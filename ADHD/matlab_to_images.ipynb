{
 "cells": [
  {
   "cell_type": "markdown",
   "metadata": {},
   "source": [
    "# Image generator\n",
    "This notebook is responsible for generating labeled images from the matlab files.\n",
    "Each image is labeled as one of 'fn', 'fy', 'mn', 'my'. These labels are then split up into two binary labels during training.\n",
    "\n",
    "the structure of the matlab files is as follows\n",
    "```\n",
    "cells[11]\n",
    "    subjects[13]\n",
    "        channels[sampels;2]\n",
    "```\n",
    "\n",
    "Each cell represents a different set of channels. The channels used by each is:\n",
    "1. Cz, F4\n",
    "2. Cz, F4\n",
    "3. Cz, F4\n",
    "4. Cz, F4\n",
    "5. Cz, F4\n",
    "6. Cz, F4\n",
    "7. 01, F4\n",
    "8. 01, F4\n",
    "9. 01, F4\n",
    "10. F3, F4\n",
    "11. Fz F4\n",
    "\n",
    "the training is sepparated by what channels are in use.\n"
   ]
  },
  {
   "cell_type": "code",
   "execution_count": 124,
   "metadata": {},
   "outputs": [],
   "source": [
    "from scipy.io.matlab import loadmat\n",
    "from torch.fft import fft2\n",
    "from torch import tensor, zeros\n",
    "from torchvision.io import write_png\n",
    "from os import makedirs\n",
    "import matplotlib.pyplot as plt"
   ]
  },
  {
   "cell_type": "code",
   "execution_count": 125,
   "metadata": {},
   "outputs": [],
   "source": [
    "cell_channels = [\n",
    "    ['Cz', 'F4'],\n",
    "    ['Cz', 'F4'],\n",
    "    ['Cz', 'F4'],\n",
    "    ['Cz', 'F4'],\n",
    "    ['Cz', 'F4'],\n",
    "    ['Cz', 'F4'],\n",
    "    ['01', 'F4'],\n",
    "    ['01', 'F4'],\n",
    "    ['01', 'F4'],\n",
    "    ['F3', 'F4'],\n",
    "    ['Fz', 'F4'],\n",
    "]\n",
    "\n",
    "cell_maps = {\n",
    "    'Cz': 0,\n",
    "    '01': 2,\n",
    "    'F3': 4,\n",
    "    'Fz': 6,\n",
    "    'F4': 8\n",
    "}"
   ]
  },
  {
   "cell_type": "code",
   "execution_count": 126,
   "metadata": {},
   "outputs": [],
   "source": [
    "\n",
    "\n",
    "def load_file(name: str):\n",
    "    file = loadmat(f'data/EEG/{name}.mat')\n",
    "    cells = file[name]\n",
    "    gender = 'm' if name.startswith('M') else 'f'\n",
    "    adhd = 'y' if not name.endswith('C') else 'n'\n",
    "    dir = f'data/generated/{gender}{adhd}'\n",
    "    makedirs(dir, exist_ok=True)\n",
    "    for cell in range(cells.shape[1]):\n",
    "        sample = cells[0,cell]\n",
    "        for p in range(sample.shape[0]):\n",
    "            # subject 7 is corrupt amongs the women\n",
    "            if p == 7 and name == 'FADHD':\n",
    "                continue\n",
    "            person = sample[p]\n",
    "            sampled = fft2(tensor(person))\n",
    "\n",
    "            index = 0\n",
    "            while index < sampled.shape[0]:\n",
    "                start = index\n",
    "                end = index+100\n",
    "                index += 100\n",
    "                if index > sampled.shape[0]:\n",
    "                    start = sampled.shape[0]-100\n",
    "                    end = sampled.shape[0]\n",
    "\n",
    "                image = zeros((1, 100, 4))\n",
    "                [cell_a, cell_b] = cell_channels[cell]\n",
    "\n",
    "                image[0, :,0] = sampled[start:end,0].real\n",
    "                image[0, :,1] = sampled[start:end,0].imag\n",
    "                image[0, :,2] = sampled[start:end,1].real\n",
    "                image[0, :,3] = sampled[start:end,1].imag\n",
    "\n",
    "                image = image * 255\n",
    "                image = image.byte()\n",
    "                \n",
    "                filename = f'{dir}/c{cell}p{p}s{index//100}d{cell_a}{cell_b}.png'\n",
    "                write_png(image, filename)\n"
   ]
  },
  {
   "cell_type": "code",
   "execution_count": 127,
   "metadata": {},
   "outputs": [],
   "source": [
    "load_file('FC')\n",
    "load_file('MC')\n",
    "load_file('MADHD')\n",
    "load_file('FADHD')"
   ]
  },
  {
   "cell_type": "code",
   "execution_count": null,
   "metadata": {},
   "outputs": [],
   "source": []
  }
 ],
 "metadata": {
  "kernelspec": {
   "display_name": "Python 3",
   "language": "python",
   "name": "python3"
  },
  "language_info": {
   "codemirror_mode": {
    "name": "ipython",
    "version": 3
   },
   "file_extension": ".py",
   "mimetype": "text/x-python",
   "name": "python",
   "nbconvert_exporter": "python",
   "pygments_lexer": "ipython3",
   "version": "3.11.8"
  }
 },
 "nbformat": 4,
 "nbformat_minor": 2
}
