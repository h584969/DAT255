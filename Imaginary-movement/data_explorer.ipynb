{
 "cells": [
  {
   "cell_type": "markdown",
   "metadata": {},
   "source": [
    "# EDF to sqlite converter\n",
    "This notebook takes the .edf files placed in data/files and bundles them together to a sqlite database.\n",
    "Each row in the database has similar attributes(frequency length, attribute mapping). The final database can be used as a data source using the SqliDataSet (this converts the resulting tensors into the correct shape for processing)\n",
    "\n",
    "The current dataset in use is gathered from [https://www.physionet.org/content/eegmmidb/1.0.0/](https://www.physionet.org/content/eegmmidb/1.0.0/)"
   ]
  },
  {
   "cell_type": "code",
   "execution_count": 16,
   "metadata": {},
   "outputs": [
    {
     "data": {
      "text/plain": [
       "<module 'sql_data_manager' from 'c:\\\\Users\\\\fredf\\\\git\\\\DAT255\\\\Imaginary-movement\\\\sql_data_manager.py'>"
      ]
     },
     "execution_count": 16,
     "metadata": {},
     "output_type": "execute_result"
    }
   ],
   "source": [
    "import matplotlib.pyplot as plt\n",
    "import pyedflib as edf\n",
    "import numpy as np\n",
    "import numpy.typing as npt\n",
    "import sqlite3 as sql\n",
    "from fastai.data.all import get_files\n",
    "from tqdm import tqdm\n",
    "import sql_data_manager as sql\n",
    "import error_tracker\n",
    "from importlib import reload\n",
    "reload(error_tracker)\n",
    "reload(sql)\n"
   ]
  },
  {
   "cell_type": "markdown",
   "metadata": {},
   "source": [
    "## Current work done"
   ]
  },
  {
   "cell_type": "code",
   "execution_count": 2,
   "metadata": {},
   "outputs": [
    {
     "data": {
      "text/plain": [
       "([<matplotlib.patches.Wedge at 0x2171b751d90>,\n",
       "  <matplotlib.patches.Wedge at 0x2171b7353d0>,\n",
       "  <matplotlib.patches.Wedge at 0x2171b75bd90>],\n",
       " [Text(0.5299290306818474, 0.9639373540021144, 'where to find data?'),\n",
       "  Text(-0.5599456069679141, -0.9468162003458402, 'data preprocessing'),\n",
       "  Text(1.0994572119784658, -0.03455197575449488, 'machine learning')])"
      ]
     },
     "execution_count": 2,
     "metadata": {},
     "output_type": "execute_result"
    },
    {
     "data": {
      "image/png": "[encoded data removed]",
      "text/plain": [
       "<Figure size 640x480 with 1 Axes>"
      ]
     },
     "metadata": {},
     "output_type": "display_data"
    }
   ],
   "source": [
    "plt.pie([34, 65, 1], labels=[\"where to find data?\", \"data preprocessing\", \"machine learning\"])"
   ]
  },
  {
   "cell_type": "markdown",
   "metadata": {},
   "source": [
    "## Helper exception\n",
    "Used during processing to track what errors have occured."
   ]
  },
  {
   "cell_type": "code",
   "execution_count": 3,
   "metadata": {},
   "outputs": [],
   "source": [
    "class EdfException(BaseException):\n",
    "    \"\"\"Exception thrown due to errors in the edf files.\n",
    "    \"\"\"\n",
    "    def __init__(self, error_kind: str, error_message: str) -> None:\n",
    "        \"\"\"Constructs a new EdfException with the provided kind and message\n",
    "\n",
    "        Parameters\n",
    "        ----------\n",
    "        error_kind: str, required\n",
    "            What kind of edf exception occured. This is used later to aggregate the errors in the data set.\n",
    "        \n",
    "        error_message: str, required\n",
    "            the error message. this is what's displayed if the message is printed.\n",
    "        \"\"\"\n",
    "        self.error_kind = error_kind\n",
    "        super().__init__(error_message)"
   ]
  },
  {
   "cell_type": "markdown",
   "metadata": {},
   "source": [
    "## time range correction\n",
    "The .edf format"
   ]
  },
  {
   "cell_type": "code",
   "execution_count": 4,
   "metadata": {},
   "outputs": [],
   "source": [
    "def correct_time_ranges(time_start: npt.NDArray[np.floating], time_range: npt.NDArray[np.floating]) -> npt.NDArray[np.floating]:\n",
    "    \"\"\"Mutates the `time_start` parameter so that `time_start[x] + time_range[x] == time_start[x+1]`.\n",
    "\n",
    "    This method will only change the time_start value on index `x` if x is equal to `time_start[x-1] + time_range[x-1]` rounded of to 1 or 2 decimals.\n",
    "    Otherwise the value will be left unchanged.\n",
    "    \n",
    "    Parameters\n",
    "    ----------\n",
    "    time_start: `np.ndarray[float]`, required\n",
    "        the start of each timespan.\n",
    "        This value is mutated\n",
    "    \n",
    "    time_range: `np.ndarray[float]`, required\n",
    "        the length of each timespan.\n",
    "\n",
    "    Returns\n",
    "    -------\n",
    "    `np.ndarray[float]`\n",
    "        The original array provided in `time_start`\n",
    "    \"\"\"\n",
    "\n",
    "    for start, s_range, val in zip(np.nditer(time_start[:-1], op_flags=['readonly']), np.nditer(time_range[:-1], op_flags=['readonly']), np.nditer(time_start[1:], op_flags=['readwrite'])):\n",
    "        if start + s_range == val:\n",
    "            continue\n",
    "\n",
    "        expected = start + s_range\n",
    "        if np.round(expected, 2) == val:\n",
    "            val[...] = expected\n",
    "            #print(\"found rounding of 2\", expected)\n",
    "        elif np.round(expected, 1) == val:\n",
    "            val[...] = expected\n",
    "            #print(\"found rounding of 1\", expected)\n",
    "        else:    \n",
    "            raise EdfException(\"invalid time range\", f\"start time and accumulated time does not match: {start}, {s_range}, ({expected}), {val}\") \n",
    "    \n",
    "    return time_start"
   ]
  },
  {
   "cell_type": "code",
   "execution_count": 5,
   "metadata": {},
   "outputs": [],
   "source": [
    "def resample_time_range(frequencies: npt.NDArray[np.floating], labels: npt.NDArray[np.uint8], original_freq: float):\n",
    "    try:\n",
    "        target_freq = 160.0\n",
    "        time = frequencies.shape[1]/original_freq\n",
    "        #print(frequencies.shape[1], time)\n",
    "        freq_indices = np.arange(0,time, 1.0/original_freq)\n",
    "        interp_indices = np.arange(0, time, 1.0/target_freq)\n",
    "        #print(freq_indices, interp_indices)\n",
    "\n",
    "        out_f = np.zeros((frequencies.shape[0], interp_indices.shape[0]))\n",
    "\n",
    "        for i in range(frequencies.shape[0]):\n",
    "            out_f[i,:] = np.interp(interp_indices, freq_indices, frequencies[i,:])\n",
    "        \n",
    "        out_f = out_f.round(0).astype(np.uint16)\n",
    "        \n",
    "        freq_indices = np.arange(frequencies.shape[1])\n",
    "        interp_indices = (np.arange(out_f.shape[1]) / out_f.shape[1]) * frequencies.shape[1]\n",
    "\n",
    "        out_l = np.interp(interp_indices, freq_indices, freq_indices).round(0).astype(np.int32)\n",
    "        return (out_f, labels[out_l])\n",
    "    except BaseException as e:\n",
    "        raise EdfException(\"resampling error\", e)\n"
   ]
  },
  {
   "cell_type": "code",
   "execution_count": 6,
   "metadata": {},
   "outputs": [],
   "source": [
    "def read_file(file: str) -> tuple[float, npt.NDArray[np.floating], npt.NDArray[np.floating], npt.NDArray[np.floating], np.ndarray[np.object_], list[str]]:\n",
    "    with edf.EdfReader(file) as file_reader:\n",
    "        freqs = file_reader.getSampleFrequencies() \n",
    "        if not np.all(freqs == freqs[0]):\n",
    "            raise EdfException(\"uneven sampling\", f\"uneven sampling in {file}\")\n",
    "        \n",
    "        freq: float = freqs[0]\n",
    "\n",
    "        time_start, time_range, labels = file_reader.readAnnotations()\n",
    "        if len(time_start) > 1:\n",
    "            time_start = correct_time_ranges(time_start, time_range)\n",
    "        \n",
    "        signal_labels = file_reader.getSignalLabels()\n",
    "\n",
    "        num_signals = file_reader.signals_in_file\n",
    "        signals = np.zeros((num_signals, file_reader.getNSamples()[0]))\n",
    "        for i in range(num_signals):\n",
    "            signals[i, :] = file_reader.readSignal(i)\n",
    "\n",
    "        return (freq, signals, time_start, time_range, labels, signal_labels)"
   ]
  },
  {
   "cell_type": "code",
   "execution_count": 7,
   "metadata": {},
   "outputs": [],
   "source": [
    "def get_run_id(file_name: str) -> int:\n",
    "    \"\"\"\n",
    "    retrieves the run id from the file name.\n",
    "    Expects the file name to be structured as S<candidate id>R<run id>.edf\n",
    "    \"\"\"\n",
    "    start = file_name.rfind('R')+1\n",
    "    end = file_name.rfind('.')\n",
    "    return int(file_name[start:end])"
   ]
  },
  {
   "cell_type": "code",
   "execution_count": 8,
   "metadata": {},
   "outputs": [],
   "source": [
    "REST_POSITION = 1\n",
    "\n",
    "OPEN_CLOSE_LEFT_FIST_ACTUAL = 2\n",
    "OPEN_CLOSE_LEFT_FIST_IMAGINED = 3\n",
    "OPEN_CLOSE_RIGHT_FIST_ACTUAL = 4\n",
    "OPEN_CLOSE_RIGHT_FIST_IMAGINED = 5\n",
    "OPEN_CLOSE_BOTH_FISTS_ACTUAL = 6\n",
    "OPEN_CLOSE_BOTH_FISTS_IMAGINED = 7\n",
    "OPEN_CLOSE_BOTH_FEET_ACTUAL = 8\n",
    "OPEN_CLOSE_BOTH_FEET_IMAGINED = 9\n",
    "\n",
    "TASK_1 = {\n",
    "    \"T0\": REST_POSITION,\n",
    "    \"T1\": OPEN_CLOSE_LEFT_FIST_ACTUAL,\n",
    "    \"T2\": OPEN_CLOSE_RIGHT_FIST_ACTUAL\n",
    "}\n",
    "TASK_2 = {\n",
    "    \"T0\": REST_POSITION,\n",
    "    \"T1\": OPEN_CLOSE_LEFT_FIST_IMAGINED,\n",
    "    \"T2\": OPEN_CLOSE_RIGHT_FIST_IMAGINED\n",
    "}\n",
    "TASK_3 = {\n",
    "    \"T0\": REST_POSITION,\n",
    "    \"T1\": OPEN_CLOSE_BOTH_FISTS_ACTUAL,\n",
    "    \"T2\": OPEN_CLOSE_BOTH_FEET_ACTUAL\n",
    "}\n",
    "TASK_4 = {\n",
    "    \"T0\": REST_POSITION,\n",
    "    \"T1\": OPEN_CLOSE_BOTH_FISTS_IMAGINED,\n",
    "    \"T2\": OPEN_CLOSE_BOTH_FEET_IMAGINED\n",
    "}\n",
    "\n",
    "annotation_mappings = [\n",
    "    {\n",
    "        \"T0\": REST_POSITION,\n",
    "    },\n",
    "    {\n",
    "        \"T0\": REST_POSITION,\n",
    "    },\n",
    "    TASK_1,\n",
    "    TASK_2,\n",
    "    TASK_3,\n",
    "    TASK_4,\n",
    "    TASK_1,\n",
    "    TASK_2,\n",
    "    TASK_3,\n",
    "    TASK_4,\n",
    "    TASK_1,\n",
    "    TASK_2,\n",
    "    TASK_3,\n",
    "    TASK_4,\n",
    "]"
   ]
  },
  {
   "cell_type": "code",
   "execution_count": 9,
   "metadata": {},
   "outputs": [
    {
     "name": "stderr",
     "output_type": "stream",
     "text": [
      "100%|██████████| 1526/1526 [03:16<00:00,  7.76it/s]\n"
     ]
    }
   ],
   "source": [
    "errors = error_tracker.ErrorTracker()\n",
    "\n",
    "files = get_files(\"./data/files\", \".edf\")\n",
    "database = sql.SqlDataSet(\"no_baseline_model.db\")\n",
    "for file in tqdm(files):\n",
    "    file = str(file)\n",
    "    run_id = get_run_id(file)\n",
    "    \n",
    "    # skip baseline models\n",
    "    if run_id == 1 or run_id == 2:\n",
    "        continue\n",
    "    \n",
    "    try:\n",
    "        freq, signals, time_start, time_range, labels, signal_labels = read_file(file)\n",
    "    except EdfException as e:\n",
    "        errors.add_error(e.error_kind)\n",
    "        #print(\"error for file\", file)\n",
    "        #print(e)\n",
    "        continue\n",
    "    \n",
    "    annotations_buffer = np.zeros((signals.shape[1],), np.uint8)\n",
    "    \n",
    "\n",
    "    elapsed = 0\n",
    "    try:\n",
    "        for i in range(time_start.shape[0]):\n",
    "            start = int(np.round(time_start[i],3)*freq)\n",
    "            #print(time_start[i],\"*\",freq,\"=\",(time_start[i]*freq))\n",
    "            s_range = int(time_range[i]*freq)\n",
    "            kind = labels[i]\n",
    "            \n",
    "            #print(start, s_range, elapsed)\n",
    "\n",
    "            if elapsed != start:\n",
    "                print(time_start, time_range, i)\n",
    "                raise EdfException(\"uncorrelated time range\", f\"{file} start time and elapsed does not correlate.\")\n",
    "            \n",
    "            if kind not in annotation_mappings[run_id-1]:\n",
    "                if run_id == 1 or run_id == 2:\n",
    "                    raise EdfException(\"label in wrong run\", f\"{file}: {kind} should not appear in run {run_id}\")\n",
    "                raise EdfException(\"missing label\", f\"{file}: {kind} not in {run_id}\")\n",
    "            \n",
    "            actual = annotation_mappings[run_id-1][kind]\n",
    "\n",
    "            annotations_buffer[elapsed:(elapsed+s_range)] = actual\n",
    "            #print(elapsed, \"+\",s_range,\"=\",(elapsed+s_range))\n",
    "            elapsed += s_range\n",
    "        \n",
    "        if freq != 160.0:\n",
    "            signals, annotations_buffer = resample_time_range(signals, annotations_buffer, freq)\n",
    "\n",
    "    except EdfException as e:\n",
    "        errors.add_error(e.error_kind)\n",
    "        continue\n",
    "\n",
    "    #print(signals.shape, annotations_buffer.shape)\n",
    "    database.add_data(signals, annotations_buffer)\n"
   ]
  },
  {
   "cell_type": "code",
   "execution_count": 10,
   "metadata": {},
   "outputs": [
    {
     "data": {
      "text/plain": [
       "([<matplotlib.patches.Wedge at 0x2171d8a81d0>,\n",
       "  <matplotlib.patches.Wedge at 0x2171b752450>],\n",
       " [Text(-0.9789737623037055, 0.5016077877395129, 'parsed files 84.92791612057667%'),\n",
       "  Text(0.9789737623037051, -0.5016077877395134, 'failed files 15.072083879423332%')])"
      ]
     },
     "execution_count": 10,
     "metadata": {},
     "output_type": "execute_result"
    },
    {
     "data": {
      "image/png": "[encoded data removed]",
      "text/plain": [
       "<Figure size 640x480 with 1 Axes>"
      ]
     },
     "metadata": {},
     "output_type": "display_data"
    }
   ],
   "source": [
    "num_entries = len(database)\n",
    "total_entries = len(files)\n",
    "plt.pie([num_entries, total_entries - num_entries], labels=[f\"parsed files {(num_entries/total_entries)*100}%\", f\"failed files {100 - (num_entries / total_entries)*100}%\"])"
   ]
  },
  {
   "cell_type": "code",
   "execution_count": 11,
   "metadata": {},
   "outputs": [
    {
     "data": {
      "text/plain": [
       "(1296, 1526)"
      ]
     },
     "execution_count": 11,
     "metadata": {},
     "output_type": "execute_result"
    }
   ],
   "source": [
    "num_entries, total_entries"
   ]
  },
  {
   "cell_type": "code",
   "execution_count": 17,
   "metadata": {},
   "outputs": [
    {
     "ename": "TypeError",
     "evalue": "bar() missing 1 required positional argument: 'height'",
     "output_type": "error",
     "traceback": [
      "\u001b[1;31m---------------------------------------------------------------------------\u001b[0m",
      "\u001b[1;31mTypeError\u001b[0m                                 Traceback (most recent call last)",
      "Cell \u001b[1;32mIn[17], line 1\u001b[0m\n\u001b[1;32m----> 1\u001b[0m \u001b[43merrors\u001b[49m\u001b[38;5;241;43m.\u001b[39;49m\u001b[43mplot_errors\u001b[49m\u001b[43m(\u001b[49m\u001b[43m)\u001b[49m\n",
      "File \u001b[1;32mc:\\Users\\fredf\\git\\DAT255\\Imaginary-movement\\error_tracker.py:19\u001b[0m, in \u001b[0;36mErrorTracker.plot_errors\u001b[1;34m(self)\u001b[0m\n\u001b[0;32m     17\u001b[0m labels \u001b[38;5;241m=\u001b[39m \u001b[38;5;28mself\u001b[39m\u001b[38;5;241m.\u001b[39merrors\u001b[38;5;241m.\u001b[39mkeys()\n\u001b[0;32m     18\u001b[0m values \u001b[38;5;241m=\u001b[39m \u001b[38;5;28mself\u001b[39m\u001b[38;5;241m.\u001b[39merrors\u001b[38;5;241m.\u001b[39mvalues()\n\u001b[1;32m---> 19\u001b[0m \u001b[43mplt\u001b[49m\u001b[38;5;241;43m.\u001b[39;49m\u001b[43mbar\u001b[49m\u001b[43m(\u001b[49m\u001b[43mvalues\u001b[49m\u001b[43m,\u001b[49m\u001b[43m \u001b[49m\u001b[43mlabels\u001b[49m\u001b[38;5;241;43m=\u001b[39;49m\u001b[43mlabels\u001b[49m\u001b[43m)\u001b[49m\n",
      "\u001b[1;31mTypeError\u001b[0m: bar() missing 1 required positional argument: 'height'"
     ]
    }
   ],
   "source": [
    "errors.plot_errors()"
   ]
  },
  {
   "cell_type": "code",
   "execution_count": null,
   "metadata": {},
   "outputs": [],
   "source": [
    "database.close_db()"
   ]
  },
  {
   "cell_type": "markdown",
   "metadata": {},
   "source": []
  }
 ],
 "metadata": {
  "kernelspec": {
   "display_name": "Python 3",
   "language": "python",
   "name": "python3"
  },
  "language_info": {
   "codemirror_mode": {
    "name": "ipython",
    "version": 3
   },
   "file_extension": ".py",
   "mimetype": "text/x-python",
   "name": "python",
   "nbconvert_exporter": "python",
   "pygments_lexer": "ipython3",
   "version": "3.11.8"
  }
 },
 "nbformat": 4,
 "nbformat_minor": 2
}
